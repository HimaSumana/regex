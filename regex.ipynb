{
 "cells": [
  {
   "cell_type": "code",
   "execution_count": 2,
   "id": "429bb3c3-2ad4-481e-bd18-d000b205a2a1",
   "metadata": {},
   "outputs": [
    {
     "data": {
      "text/plain": [
       "23"
      ]
     },
     "execution_count": 2,
     "metadata": {},
     "output_type": "execute_result"
    }
   ],
   "source": [
    "#To find the largest number in the given string \"asd12df23deff4\" \n",
    "import re \n",
    "string ='asd12df23deff4'\n",
    "pattern='asd\\ddf\\ddeff\\d+'\n",
    "number=re.findall('\\d+',string)\n",
    "number=map(int,number)\n",
    "max(number)"
   ]
  },
  {
   "cell_type": "code",
   "execution_count": 1,
   "id": "5a6519ff-781c-4129-a3c0-ccbc996445e4",
   "metadata": {},
   "outputs": [
    {
     "name": "stdout",
     "output_type": "stream",
     "text": [
      "13\n"
     ]
    }
   ],
   "source": [
    "#Counting Words: Write a regular expression to count the number of words in a sentence.\n",
    "import re\n",
    "text='Regular expressions are powerful tools for pattern matching and text manipulation in programming'\n",
    "words=len(re.findall('\\w+',text))\n",
    "print(words)"
   ]
  },
  {
   "cell_type": "code",
   "execution_count": 2,
   "id": "7c17fb84-5ecc-49cb-ac30-9f61bfca8151",
   "metadata": {},
   "outputs": [
    {
     "data": {
      "text/plain": [
       "<re.Match object; span=(0, 14), match='(989) 989-3424'>"
      ]
     },
     "execution_count": 2,
     "metadata": {},
     "output_type": "execute_result"
    }
   ],
   "source": [
    "#Matching Phone Numbers: Write a regular expression to match a phone number in the format (XXX) XXX-XXXX\n",
    "import re\n",
    "number=\"(989) 989-3424\"\n",
    "regex =re.search('^\\(?([0-9]{3})\\)?\\s([0-9]{3})[-]([0-9]{4})$',number)\n",
    "regex"
   ]
  },
  {
   "cell_type": "code",
   "execution_count": 3,
   "id": "1c55f3c7-3608-42f5-8793-d44b53a88d7a",
   "metadata": {},
   "outputs": [
    {
     "name": "stdout",
     "output_type": "stream",
     "text": [
      "False\n",
      "True\n",
      "True\n"
     ]
    }
   ],
   "source": [
    "#Palindrome Detection: Write a regular expression to check if a given string is a palindrome\n",
    "import re\n",
    "def is_palindrome(string):\n",
    "    string = re.sub('[^a-zA-Z0-9]','', string.lower())\n",
    "    return string == string[::-1]\n",
    "print(is_palindrome(\"123\"))\n",
    "print(is_palindrome(\"6996996\"))\n",
    "print(is_palindrome(\"racecar\"))"
   ]
  },
  {
   "cell_type": "code",
   "execution_count": 4,
   "id": "565edcfd-6d6a-492e-b545-549e74b7bca8",
   "metadata": {},
   "outputs": [
    {
     "name": "stdout",
     "output_type": "stream",
     "text": [
      "True\n",
      "False\n"
     ]
    }
   ],
   "source": [
    "#Password Validation: Create a regular expression to validate passwords. The password must be at least 8 characters long, contain at least one uppercase letter, one lowercase letter, one number, and one special character.\n",
    "import re\n",
    "def validate_password(password):\n",
    "    pattern = \"^(?=.*\\d)(?=.*[a-z])(?=.*[A-Z])(?=.*[-!#$%&'()*+,./:;<=>?@[\\]^_`{|}~]).{8,}$\" \n",
    "    match=re.match(pattern,password)\n",
    "    return bool(match)\n",
    "\n",
    "password1 = \"Strong&'Password123\"\n",
    "password2=\"sbk123\"\n",
    "print(validate_password(password1))\n",
    "print(validate_password(password2)) "
   ]
  },
  {
   "cell_type": "code",
   "execution_count": 5,
   "id": "d2e7b7bc-65ec-4df9-9bbb-2e6d6a863bc0",
   "metadata": {},
   "outputs": [
    {
     "data": {
      "text/plain": [
       "'Hello World'"
      ]
     },
     "execution_count": 5,
     "metadata": {},
     "output_type": "execute_result"
    }
   ],
   "source": [
    "#Removing HTML Tags: Write a regular expression to remove all HTML tags from a given string.\n",
    "import re\n",
    "text=\"<h1>Hello World</h1>\"\n",
    "string = re.sub('<[^>]+>','',text)\n",
    "string"
   ]
  },
  {
   "cell_type": "code",
   "execution_count": 6,
   "id": "1663b8c2-0a3a-4ba6-ae37-ecb146987981",
   "metadata": {},
   "outputs": [
    {
     "data": {
      "text/plain": [
       "['http://www.google.com/index.html']"
      ]
     },
     "execution_count": 6,
     "metadata": {},
     "output_type": "execute_result"
    }
   ],
   "source": [
    "#Extracting URLs: Write a regular expression to extract all URLs from a given string.\n",
    "import re\n",
    "string1=\"the google link is : https://www.google.com\"\n",
    "string2=\"the test link is : http://www.google.com/index.html\"\n",
    "url=re.findall('http[s]?://(?:[a-zA-Z]|[0-9]|[$-_@.&+]|[!*\\(\\),]|(?:%[0-9a-fA-F][0-9a-fA-F]))+',string2)\n",
    "url"
   ]
  },
  {
   "cell_type": "code",
   "execution_count": 7,
   "id": "92d6c57c-1f67-4c02-9796-2eeaa8f02502",
   "metadata": {},
   "outputs": [
    {
     "data": {
      "text/plain": [
       "'orange is a sweet and delicious fruit that is very healthy.orange is red in color'"
      ]
     },
     "execution_count": 7,
     "metadata": {},
     "output_type": "execute_result"
    }
   ],
   "source": [
    "#Replacing String Patterns: Write a regular expression to replace all occurrences of \"apple\" with \"orange\" in a given string.\n",
    "import re\n",
    "string=\"Apple is a sweet and delicious fruit that is very healthy.Apple is red in color\"\n",
    "result=re.sub('Apple','orange',string)\n",
    "result"
   ]
  },
  {
   "cell_type": "code",
   "execution_count": 30,
   "id": "e2359250-3ccb-4d87-825e-290c14b09c86",
   "metadata": {},
   "outputs": [
    {
     "data": {
      "text/plain": [
       "['123', '789']"
      ]
     },
     "execution_count": 30,
     "metadata": {},
     "output_type": "execute_result"
    }
   ],
   "source": [
    "#display the consecutive numbers in the given string using regular expression\n",
    "import re\n",
    "string=\"abc12387895\"\n",
    "result=re.findall('(?:123|234|345|456|567|678|789)',string)\n",
    "result"
   ]
  },
  {
   "cell_type": "code",
   "execution_count": 8,
   "id": "c4d8fd15-40b1-4fa2-b04d-716f704954f4",
   "metadata": {},
   "outputs": [
    {
     "name": "stdout",
     "output_type": "stream",
     "text": [
      "cdf\n"
     ]
    }
   ],
   "source": [
    "#remove all vowels from string\n",
    "import re \n",
    "string=\"acdeiouf\"\n",
    "result=re.sub(\"[aeiou]\",\"\",string)\n",
    "print(result)"
   ]
  },
  {
   "cell_type": "code",
   "execution_count": 36,
   "id": "17f46619-a89b-4fbd-94a7-dc506cd559b3",
   "metadata": {},
   "outputs": [
    {
     "data": {
      "text/plain": [
       "['contact@tutorialspoint.com', 'careof@outlook.com']"
      ]
     },
     "execution_count": 36,
     "metadata": {},
     "output_type": "execute_result"
    }
   ],
   "source": [
    "#Extracting Emails: Given a string containing multiple email addresses, write a JavaScript function to extract all the email addresses from the string using regular expressions\n",
    "import re\n",
    "string = \"Please contact us at contact@tutorialspoint.com and careof@outlook.com for further information.\"\n",
    "email = re.findall(\"[\\w\\.\\-]+@[\\w\\.\\-]+\\.[a-z]+\",string)\n",
    "email"
   ]
  },
  {
   "cell_type": "code",
   "execution_count": 8,
   "id": "efae8da9-70ba-4b26-91c2-57aca6126144",
   "metadata": {},
   "outputs": [
    {
     "name": "stdout",
     "output_type": "stream",
     "text": [
      "<re.Match object; span=(3, 6), match='123'>\n",
      "None\n"
     ]
    }
   ],
   "source": [
    "#Checking for Consecutive Characters: Write a regular expression to check if a string contains three consecutive digits.\n",
    "import re\n",
    "a = 'abc123'\n",
    "b = 'acb71op'\n",
    "print(re.search('[0-9][0-9][0-9]',a))\n",
    "print(re.search('[0-9][0-9][0-9]',b))"
   ]
  }
 ],
 "metadata": {
  "kernelspec": {
   "display_name": "Python 3 (ipykernel)",
   "language": "python",
   "name": "python3"
  },
  "language_info": {
   "codemirror_mode": {
    "name": "ipython",
    "version": 3
   },
   "file_extension": ".py",
   "mimetype": "text/x-python",
   "name": "python",
   "nbconvert_exporter": "python",
   "pygments_lexer": "ipython3",
   "version": "3.11.5"
  }
 },
 "nbformat": 4,
 "nbformat_minor": 5
}
